{
 "cells": [
  {
   "cell_type": "code",
   "execution_count": null,
   "id": "e411422b",
   "metadata": {},
   "outputs": [],
   "source": [
    "import pandas as pd\n",
    "import numpy as np\n",
    "import os\n",
    "import sys\n",
    "\n",
    "# Load other functions\n",
    "sys.path.append(os.path.abspath('../src'))\n",
    "sys.path.append(os.path.abspath('../scripts'))\n",
    "\n",
    "from data_loader import CSVDataloader, get_file_path"
   ]
  },
  {
   "cell_type": "code",
   "execution_count": null,
   "id": "0d8d5354",
   "metadata": {},
   "outputs": [],
   "source": [
    "# Call functions\n",
    "data = CSVDataloader()"
   ]
  },
  {
   "cell_type": "markdown",
   "id": "b29e46e1",
   "metadata": {},
   "source": [
    "## Load Credit Risk data for Analysis"
   ]
  },
  {
   "cell_type": "code",
   "execution_count": null,
   "id": "fd14b58c",
   "metadata": {},
   "outputs": [],
   "source": [
    "# Load AAPL data\n",
    "data = get_file_path(\"AAPL\")\n",
    "AAPL_data = CSVDataloader(data).load_data()"
   ]
  },
  {
   "cell_type": "code",
   "execution_count": null,
   "id": "1dee36fd",
   "metadata": {},
   "outputs": [],
   "source": [
    "# Call functions\n",
    "data = CSVDataloader()"
   ]
  }
 ],
 "metadata": {
  "kernelspec": {
   "display_name": ".venv",
   "language": "python",
   "name": "python3"
  },
  "language_info": {
   "codemirror_mode": {
    "name": "ipython",
    "version": 3
   },
   "file_extension": ".py",
   "mimetype": "text/x-python",
   "name": "python",
   "nbconvert_exporter": "python",
   "pygments_lexer": "ipython3",
   "version": "3.12.8"
  }
 },
 "nbformat": 4,
 "nbformat_minor": 5
}
